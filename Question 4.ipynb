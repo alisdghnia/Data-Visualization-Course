{
 "cells": [
  {
   "cell_type": "code",
   "execution_count": 3,
   "metadata": {},
   "outputs": [
    {
     "data": {
      "image/png": "[encoded data removed]",
      "text/plain": [
       "<Figure size 432x288 with 1 Axes>"
      ]
     },
     "metadata": {
      "needs_background": "light"
     },
     "output_type": "display_data"
    },
    {
     "name": "stdout",
     "output_type": "stream",
     "text": [
      "                    Country  Sum of Sale Price  Sum of Cost Price\n",
      "0            United Kingdom           15725000           10193880\n",
      "1  United States of America           11653960            7716065\n",
      "2                    France            2524510            1460100\n"
     ]
    }
   ],
   "source": [
    "import pandas as pd\n",
    "import matplotlib.pyplot as plt\n",
    "from datetime import datetime\n",
    "\n",
    "## Question 4\n",
    "df3 = pd.read_excel('Simplified Car Sales Data.xlsx')\n",
    "\n",
    "df_UK = df3[df3['CountryName'] == 'United Kingdom']\n",
    "df_US = df3[df3['CountryName'] == 'USA']\n",
    "df_FR = df3[df3['CountryName'] == 'France']\n",
    "\n",
    "totals_UK = df_UK.sum(numeric_only = True)\n",
    "totals_US = df_US.sum(numeric_only = True)\n",
    "totals_FR = df_FR.sum(numeric_only = True)\n",
    "\n",
    "totals_per_country = pd.DataFrame([('United Kingdom', round(totals_UK['SalePrice']), round(totals_UK['CostPrice'])),\n",
    "                                   ('United States of America', round(totals_US['SalePrice']), round(totals_US['CostPrice'])),\n",
    "                                   ('France', round(totals_FR['SalePrice']), round(totals_FR['CostPrice']))],\n",
    "                                  columns = ['Country', 'Sum of Sale Price', 'Sum of Cost Price'])\n",
    "\n",
    "totals_per_country.plot('Country', ['Sum of Sale Price', 'Sum of Cost Price'], kind = 'barh', title = 'Question 4')\n",
    "plt.show()\n",
    "\n",
    "print(totals_per_country)"
   ]
  },
  {
   "cell_type": "code",
   "execution_count": null,
   "metadata": {},
   "outputs": [],
   "source": []
  }
 ],
 "metadata": {
  "kernelspec": {
   "display_name": "Python 3.8.9 64-bit",
   "language": "python",
   "name": "python3"
  },
  "language_info": {
   "codemirror_mode": {
    "name": "ipython",
    "version": 3
   },
   "file_extension": ".py",
   "mimetype": "text/x-python",
   "name": "python",
   "nbconvert_exporter": "python",
   "pygments_lexer": "ipython3",
   "version": "3.8.9"
  },
  "orig_nbformat": 4,
  "vscode": {
   "interpreter": {
    "hash": "31f2aee4e71d21fbe5cf8b01ff0e069b9275f58929596ceb00d14d90e3e16cd6"
   }
  }
 },
 "nbformat": 4,
 "nbformat_minor": 2
}
